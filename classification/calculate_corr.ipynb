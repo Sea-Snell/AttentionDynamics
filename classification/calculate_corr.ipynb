{
 "cells": [
  {
   "cell_type": "code",
   "execution_count": 2,
   "metadata": {},
   "outputs": [],
   "source": [
    "import pickle as pkl\n",
    "import numpy as np\n",
    "import matplotlib.pyplot as plt\n",
    "\"\"\"\n",
    "for dataset in ['iwslt14', 'multi30k']:\n",
    "    logs = pkl.load(open('data/{dataset}_logs.pkl'.format(dataset=dataset), 'rb'))\n",
    "\n",
    "    num_datapoints = len(logs['sequences'])\n",
    "\n",
    "    iterations = logs['normal_A'].keys()\n",
    "    dicts = logs['sequences']\n",
    "    for key in logs:\n",
    "        if key == 'sequences':\n",
    "            continue\n",
    "        for iteration in iterations:\n",
    "            for datapoint_idx in range(num_datapoints):\n",
    "                dicts[datapoint_idx][(key, iteration, 'alpha')] = logs[key][iteration][datapoint_idx]['alpha']\n",
    "                dicts[datapoint_idx][(key, iteration, 'beta')] = logs[key][iteration][datapoint_idx]['beta']\n",
    "                dicts[datapoint_idx]['split'] = logs[key][iteration][datapoint_idx]['split']\n",
    "    pkl.dump(dicts, open('data/{dataset}_logs_rz.pkl'.format(dataset=dataset), 'wb'))\n",
    "    \"\"\"\n",
    "from utils import *\n",
    "\n",
    "def max_acc_iter(name, metas):\n",
    "    max_acc = -1.0\n",
    "    max_acc_iter = None\n",
    "    for key_ in metas:\n",
    "        if key_[0] == name and key_[2] == 'test_acc':\n",
    "            if metas[key_] > max_acc:\n",
    "                max_acc = metas[key_]\n",
    "                max_acc_iter = key_[1]\n",
    "    return max_acc_iter\n",
    "\n",
    "def passing_idx(A1s, A2):\n",
    "    for i in range(len(A1s)):\n",
    "        if A1s[i] > A2:\n",
    "            return i\n",
    "    return None, None\n",
    "\n",
    "def corrs_iter(dicts, key1, keys2, corr_metric):\n",
    "    corrs = []\n",
    "    baselines = []\n",
    "    for key2 in keys2:\n",
    "        vals = corr_metric.eval_corr(dicts, key1, key2)\n",
    "        corrs.append(vals['correlation'])\n",
    "        baselines.append(vals['baseline'])\n",
    "    return corrs, baselines\n",
    "\n",
    "def acc_iter(metas, keys):\n",
    "    accs = []\n",
    "    for key in keys:\n",
    "        accs.append(metas[key])\n",
    "    return accs"
   ]
  },
  {
   "cell_type": "code",
   "execution_count": 3,
   "metadata": {},
   "outputs": [
    {
     "ename": "EOFError",
     "evalue": "Ran out of input",
     "output_type": "error",
     "traceback": [
      "\u001b[0;31m---------------------------------------------------------------------------\u001b[0m",
      "\u001b[0;31mEOFError\u001b[0m                                  Traceback (most recent call last)",
      "\u001b[0;32m<ipython-input-3-a7c2ae18cb0f>\u001b[0m in \u001b[0;36m<module>\u001b[0;34m\u001b[0m\n\u001b[1;32m      1\u001b[0m \u001b[0mdataset\u001b[0m \u001b[0;34m=\u001b[0m \u001b[0;34m'IMDB'\u001b[0m\u001b[0;34m\u001b[0m\u001b[0;34m\u001b[0m\u001b[0m\n\u001b[0;32m----> 2\u001b[0;31m \u001b[0mdat\u001b[0m \u001b[0;34m=\u001b[0m \u001b[0mpkl\u001b[0m\u001b[0;34m.\u001b[0m\u001b[0mload\u001b[0m\u001b[0;34m(\u001b[0m\u001b[0mopen\u001b[0m\u001b[0;34m(\u001b[0m\u001b[0;34m'outputs/{dataset}_logs.pkl'\u001b[0m\u001b[0;34m.\u001b[0m\u001b[0mformat\u001b[0m\u001b[0;34m(\u001b[0m\u001b[0mdataset\u001b[0m\u001b[0;34m=\u001b[0m\u001b[0mdataset\u001b[0m\u001b[0;34m)\u001b[0m\u001b[0;34m,\u001b[0m \u001b[0;34m'rb'\u001b[0m\u001b[0;34m)\u001b[0m\u001b[0;34m)\u001b[0m\u001b[0;34m\u001b[0m\u001b[0;34m\u001b[0m\u001b[0m\n\u001b[0m\u001b[1;32m      3\u001b[0m \u001b[0mall_dicts\u001b[0m \u001b[0;34m=\u001b[0m \u001b[0mdat\u001b[0m\u001b[0;34m[\u001b[0m\u001b[0;34m'data'\u001b[0m\u001b[0;34m]\u001b[0m\u001b[0;34m\u001b[0m\u001b[0;34m\u001b[0m\u001b[0m\n\u001b[1;32m      4\u001b[0m \u001b[0msubset\u001b[0m \u001b[0;34m=\u001b[0m \u001b[0;34m'val'\u001b[0m\u001b[0;34m\u001b[0m\u001b[0;34m\u001b[0m\u001b[0m\n\u001b[1;32m      5\u001b[0m \u001b[0mdicts\u001b[0m \u001b[0;34m=\u001b[0m \u001b[0;34m[\u001b[0m\u001b[0md\u001b[0m \u001b[0;32mfor\u001b[0m \u001b[0md\u001b[0m \u001b[0;32min\u001b[0m \u001b[0mall_dicts\u001b[0m \u001b[0;32mif\u001b[0m \u001b[0md\u001b[0m\u001b[0;34m[\u001b[0m\u001b[0;34m'split'\u001b[0m\u001b[0;34m]\u001b[0m \u001b[0;34m==\u001b[0m \u001b[0msubset\u001b[0m\u001b[0;34m]\u001b[0m\u001b[0;34m\u001b[0m\u001b[0;34m\u001b[0m\u001b[0m\n",
      "\u001b[0;31mEOFError\u001b[0m: Ran out of input"
     ]
    }
   ],
   "source": [
    "dataset = 'IMDB'\n",
    "dat = pkl.load(open('outputs/{dataset}_logs.pkl'.format(dataset=dataset), 'rb'))\n",
    "all_dicts = dat['data']\n",
    "subset = 'val'\n",
    "dicts = [d for d in all_dicts if d['split'] == subset]\n",
    "iterations = sorted(list(set([key[1] for key in dat['metas']])))"
   ]
  },
  {
   "cell_type": "code",
   "execution_count": 12,
   "metadata": {},
   "outputs": [],
   "source": [
    "from utils import TopKMatch, TopPercentMatch, SpearmanRankCorr\n",
    "metrics = [TopPercentMatch(p=5)]\n",
    "top5_metric = TopPercentMatch(p=5)\n",
    "normalA_iter = max_acc_iter('normal_A', dat['metas'])\n",
    "normalB_iter = max_acc_iter('normal_B', dat['metas'])\n",
    "uniform_iter = max_acc_iter('uniform', dat['metas'])"
   ]
  },
  {
   "cell_type": "code",
   "execution_count": 40,
   "metadata": {},
   "outputs": [],
   "source": [
    "normal_B_keys = [('normal_B', iter_, 'alpha') for iter_ in iterations]\n",
    "B_acc_keys = [('normal_B', iter_, 'test_acc') for iter_ in iterations]\n",
    "\n",
    "beta_unif_keys = [('uniform', iter_, 'beta') for iter_ in iterations]\n",
    "gold_alpha_key = ('normal_A', normalA_iter, 'alpha')\n",
    "gold_grad_key = ('normal_A', normalA_iter, 'grad')\n",
    "\n",
    "alpha_corrs, alpha_baseline = corrs_iter(dicts, gold_alpha_key, normal_B_keys, top5_metric)\n",
    "alpha_perfs = acc_iter(dat['metas'], B_acc_keys)\n",
    "\n",
    "unif_beta_corrs, _ = corrs_iter(dicts, gold_alpha_key, beta_unif_keys, top5_metric)\n",
    "unif_beta_corrs_grad, _ = corrs_iter(dicts, gold_grad_key, beta_unif_keys, top5_metric)"
   ]
  },
  {
   "cell_type": "code",
   "execution_count": 1,
   "metadata": {},
   "outputs": [
    {
     "ename": "NameError",
     "evalue": "name 'unif_beta_corrs' is not defined",
     "output_type": "error",
     "traceback": [
      "\u001b[0;31m---------------------------------------------------------------------------\u001b[0m",
      "\u001b[0;31mNameError\u001b[0m                                 Traceback (most recent call last)",
      "\u001b[0;32m<ipython-input-1-dcb786853c5c>\u001b[0m in \u001b[0;36m<module>\u001b[0;34m\u001b[0m\n\u001b[0;32m----> 1\u001b[0;31m \u001b[0mbest_beta\u001b[0m \u001b[0;34m=\u001b[0m \u001b[0mmax\u001b[0m\u001b[0;34m(\u001b[0m\u001b[0munif_beta_corrs\u001b[0m\u001b[0;34m)\u001b[0m\u001b[0;34m\u001b[0m\u001b[0;34m\u001b[0m\u001b[0m\n\u001b[0m\u001b[1;32m      2\u001b[0m \u001b[0mbest_grad\u001b[0m \u001b[0;34m=\u001b[0m \u001b[0mmax\u001b[0m\u001b[0;34m(\u001b[0m\u001b[0munif_beta_corrs_grad\u001b[0m\u001b[0;34m)\u001b[0m\u001b[0;34m\u001b[0m\u001b[0;34m\u001b[0m\u001b[0m\n\u001b[1;32m      3\u001b[0m \u001b[0mbest_acc\u001b[0m \u001b[0;34m=\u001b[0m \u001b[0mdat\u001b[0m\u001b[0;34m[\u001b[0m\u001b[0;34m'metas'\u001b[0m\u001b[0;34m]\u001b[0m\u001b[0;34m[\u001b[0m\u001b[0;34m(\u001b[0m\u001b[0;34m'normal_A'\u001b[0m\u001b[0;34m,\u001b[0m \u001b[0mnormalA_iter\u001b[0m\u001b[0;34m,\u001b[0m \u001b[0;34m'test_acc'\u001b[0m\u001b[0;34m)\u001b[0m\u001b[0;34m]\u001b[0m\u001b[0;34m\u001b[0m\u001b[0;34m\u001b[0m\u001b[0m\n\u001b[1;32m      4\u001b[0m \u001b[0midx\u001b[0m \u001b[0;34m=\u001b[0m \u001b[0mpassing_idx\u001b[0m\u001b[0;34m(\u001b[0m\u001b[0malpha_corrs\u001b[0m\u001b[0;34m,\u001b[0m \u001b[0mbest_beta\u001b[0m\u001b[0;34m)\u001b[0m\u001b[0;34m\u001b[0m\u001b[0;34m\u001b[0m\u001b[0m\n\u001b[1;32m      5\u001b[0m \u001b[0midx_grad\u001b[0m \u001b[0;34m=\u001b[0m \u001b[0mpassing_idx\u001b[0m\u001b[0;34m(\u001b[0m\u001b[0malpha_corrs\u001b[0m\u001b[0;34m,\u001b[0m \u001b[0mbest_grad\u001b[0m\u001b[0;34m)\u001b[0m\u001b[0;34m\u001b[0m\u001b[0;34m\u001b[0m\u001b[0m\n",
      "\u001b[0;31mNameError\u001b[0m: name 'unif_beta_corrs' is not defined"
     ]
    }
   ],
   "source": [
    "best_beta = max(unif_beta_corrs)\n",
    "best_grad = max(unif_beta_corrs_grad)\n",
    "best_acc = dat['metas'][('normal_A', normalA_iter, 'test_acc')]\n",
    "idx = passing_idx(alpha_corrs, best_beta)\n",
    "idx_grad = passing_idx(alpha_corrs, best_grad)\n",
    "print(best_beta)\n",
    "print(idx, alpha_perfs[idx], best_acc)\n",
    "print(best_grad)\n",
    "print(idx_grad, alpha_perfs[idx_grad], best_acc)\n",
    "print(alpha_baseline[0])"
   ]
  },
  {
   "cell_type": "code",
   "execution_count": 9,
   "metadata": {},
   "outputs": [
    {
     "name": "stdout",
     "output_type": "stream",
     "text": [
      "('normal_A', 1500, 'alpha') ('normal_F', 0, 'alpha')\n",
      "{'name': 'top 5% match', 'correlation': 0.072, 'baseline': 0.053}\n",
      "('normal_A', 1500, 'alpha') ('normal_F', 10, 'alpha')\n",
      "{'name': 'top 5% match', 'correlation': 0.01225, 'baseline': 0.0605}\n",
      "('normal_A', 1500, 'alpha') ('normal_F', 50, 'alpha')\n",
      "{'name': 'top 5% match', 'correlation': 0.12625, 'baseline': 0.0485}\n",
      "('normal_A', 1500, 'alpha') ('normal_F', 100, 'alpha')\n",
      "{'name': 'top 5% match', 'correlation': 0.2465, 'baseline': 0.04975}\n",
      "('normal_A', 1500, 'alpha') ('normal_F', 150, 'alpha')\n",
      "{'name': 'top 5% match', 'correlation': 0.3645, 'baseline': 0.053}\n",
      "('normal_A', 1500, 'alpha') ('normal_F', 200, 'alpha')\n",
      "{'name': 'top 5% match', 'correlation': 0.3975, 'baseline': 0.05125}\n",
      "('normal_A', 1500, 'alpha') ('normal_F', 250, 'alpha')\n",
      "{'name': 'top 5% match', 'correlation': 0.5355, 'baseline': 0.05}\n",
      "('normal_A', 1500, 'alpha') ('normal_F', 500, 'alpha')\n",
      "{'name': 'top 5% match', 'correlation': 0.7555, 'baseline': 0.05675}\n",
      "('normal_A', 1500, 'alpha') ('normal_F', 750, 'alpha')\n",
      "{'name': 'top 5% match', 'correlation': 0.8575, 'baseline': 0.05}\n",
      "('normal_A', 1500, 'alpha') ('normal_F', 1000, 'alpha')\n",
      "{'name': 'top 5% match', 'correlation': 0.84875, 'baseline': 0.0585}\n",
      "('normal_A', 1500, 'alpha') ('normal_F', 1250, 'alpha')\n",
      "{'name': 'top 5% match', 'correlation': 0.85625, 'baseline': 0.054}\n",
      "('normal_A', 1500, 'alpha') ('normal_F', 1500, 'alpha')\n",
      "{'name': 'top 5% match', 'correlation': 0.849, 'baseline': 0.05275}\n",
      "('normal_A', 1500, 'alpha') ('normal_F', 1750, 'alpha')\n",
      "{'name': 'top 5% match', 'correlation': 0.85, 'baseline': 0.04825}\n",
      "('normal_A', 1500, 'alpha') ('normal_F', 2000, 'alpha')\n",
      "{'name': 'top 5% match', 'correlation': 0.8385, 'baseline': 0.05275}\n",
      "('normal_A', 1500, 'alpha') ('normal_F', 2250, 'alpha')\n",
      "{'name': 'top 5% match', 'correlation': 0.8335, 'baseline': 0.05075}\n",
      "('normal_A', 1500, 'alpha') ('normal_F', 2500, 'alpha')\n",
      "{'name': 'top 5% match', 'correlation': 0.7785, 'baseline': 0.056}\n",
      "('normal_A', 1500, 'alpha') ('normal_F', 2750, 'alpha')\n",
      "{'name': 'top 5% match', 'correlation': 0.79125, 'baseline': 0.0555}\n",
      "('normal_A', 1500, 'alpha') ('normal_F', 3000, 'alpha')\n",
      "{'name': 'top 5% match', 'correlation': 0.79775, 'baseline': 0.056}\n",
      "('normal_A', 1500, 'alpha') ('normal_F', 3250, 'alpha')\n",
      "{'name': 'top 5% match', 'correlation': 0.7895, 'baseline': 0.056}\n",
      "('normal_A', 1500, 'alpha') ('normal_F', 3500, 'alpha')\n",
      "{'name': 'top 5% match', 'correlation': 0.7775, 'baseline': 0.053}\n",
      "('normal_A', 1500, 'alpha') ('normal_F', 3750, 'alpha')\n",
      "{'name': 'top 5% match', 'correlation': 0.76825, 'baseline': 0.0485}\n",
      "('normal_A', 1500, 'alpha') ('normal_F', 3999, 'alpha')\n",
      "{'name': 'top 5% match', 'correlation': 0.71325, 'baseline': 0.0525}\n"
     ]
    },
    {
     "data": {
      "image/png": "[encoded data removed]",
      "text/plain": [
       "<Figure size 432x288 with 1 Axes>"
      ]
     },
     "metadata": {
      "needs_background": "light"
     },
     "output_type": "display_data"
    }
   ],
   "source": [
    "# metrics.append(SpearmanRankCorr()) comment out because this takes a lot of time to evaluate\n",
    "x = []\n",
    "y = []\n",
    "baseline_y = []\n",
    "for iter_ in iterations:\n",
    "    key1, key2 = ('normal_A', normalA_iter, 'alpha'), ('normal_F', iter_, 'alpha')\n",
    "    print(key1, key2)\n",
    "    for metric in metrics:\n",
    "        corr = metric.eval_corr(dicts, key1, key2)\n",
    "        print(corr)\n",
    "    y.append(corr['correlation'])\n",
    "    baseline_y.append(corr['baseline'])\n",
    "    x.append(iter_)\n",
    "plt.plot(x, y, label='correlation')\n",
    "plt.plot(x, baseline_y, label='baseline')\n",
    "plt.legend()\n",
    "plt.show()"
   ]
  },
  {
   "cell_type": "code",
   "execution_count": 90,
   "metadata": {},
   "outputs": [
    {
     "name": "stdout",
     "output_type": "stream",
     "text": [
      "('normal_A', 1500, 'alpha') ('uniform', 500, 'beta')\n",
      "{'name': 'top 5% match', 'correlation': 0.008678881388621022, 'baseline': 0.08003857280617165}\n",
      "('normal_A', 1500, 'alpha') ('uniform', 1500, 'beta')\n",
      "{'name': 'top 5% match', 'correlation': 0.015429122468659595, 'baseline': 0.08293153326904533}\n",
      "('normal_A', 1500, 'alpha') ('uniform', 3000, 'beta')\n",
      "{'name': 'top 5% match', 'correlation': 0.01446480231436837, 'baseline': 0.08196721311475409}\n",
      "('normal_A', 1500, 'alpha') ('uniform', 3999, 'beta')\n",
      "{'name': 'top 5% match', 'correlation': 0.016875602700096432, 'baseline': 0.09498553519768563}\n"
     ]
    },
    {
     "data": {
      "image/png": "[encoded data removed]",
      "text/plain": [
       "<Figure size 432x288 with 1 Axes>"
      ]
     },
     "metadata": {
      "needs_background": "light"
     },
     "output_type": "display_data"
    },
    {
     "name": "stdout",
     "output_type": "stream",
     "text": [
      "[500, 1500, 3000, 3999]\n",
      "[0.008678881388621022, 0.015429122468659595, 0.01446480231436837, 0.016875602700096432]\n"
     ]
    }
   ],
   "source": [
    "\n",
    "x = []\n",
    "y = []\n",
    "baseline_y = []\n",
    "for iter_ in iterations:\n",
    "    key1, key2 = ('normal_A', normalA_iter, 'alpha'), ('uniform', iter_, 'beta')\n",
    "    print(key1, key2)\n",
    "    for metric in metrics:\n",
    "        corr = metric.eval_corr(dicts, key1, key2)\n",
    "        print(corr)\n",
    "    y.append(corr['correlation'])\n",
    "    baseline_y.append(corr['baseline'])\n",
    "    x.append(iter_)\n",
    "plt.plot(x, y, label='correlation')\n",
    "plt.plot(x, baseline_y, label='baseline')\n",
    "plt.legend()\n",
    "plt.show()\n",
    "print(x)\n",
    "print(y)"
   ]
  },
  {
   "cell_type": "code",
   "execution_count": 91,
   "metadata": {},
   "outputs": [
    {
     "name": "stdout",
     "output_type": "stream",
     "text": [
      "('uniform', 500, 'beta') logistics_beta\n",
      "{'name': 'top 5% match', 'correlation': 0.3254580520732883, 'baseline': 0.10752169720347156}\n",
      "('uniform', 1500, 'beta') logistics_beta\n",
      "{'name': 'top 5% match', 'correlation': 0.24686595949855353, 'baseline': 0.11427193828351012}\n",
      "('uniform', 3000, 'beta') logistics_beta\n",
      "{'name': 'top 5% match', 'correlation': 0.2415621986499518, 'baseline': 0.10655737704918032}\n",
      "('uniform', 3999, 'beta') logistics_beta\n",
      "{'name': 'top 5% match', 'correlation': 0.23336547733847637, 'baseline': 0.11523625843780134}\n"
     ]
    },
    {
     "data": {
      "image/png": "[encoded data removed]",
      "text/plain": [
       "<Figure size 432x288 with 1 Axes>"
      ]
     },
     "metadata": {
      "needs_background": "light"
     },
     "output_type": "display_data"
    }
   ],
   "source": [
    "x = []\n",
    "y = []\n",
    "baseline_y = []\n",
    "for iter_ in iterations:\n",
    "    key1, key2 = ('uniform', iter_, 'beta'), 'logistics_beta'\n",
    "    print(key1, key2)\n",
    "    for metric in metrics:\n",
    "        corr = metric.eval_corr(dicts, key1, key2)\n",
    "        print(corr)\n",
    "    y.append(corr['correlation'])\n",
    "    baseline_y.append(corr['baseline'])\n",
    "    x.append(iter_)\n",
    "plt.plot(x, y, label='correlation')\n",
    "plt.plot(x, baseline_y, label='baseline')\n",
    "plt.legend()\n",
    "plt.show()"
   ]
  },
  {
   "cell_type": "code",
   "execution_count": null,
   "metadata": {},
   "outputs": [],
   "source": []
  },
  {
   "cell_type": "code",
   "execution_count": null,
   "metadata": {},
   "outputs": [],
   "source": []
  }
 ],
 "metadata": {
  "kernelspec": {
   "display_name": "Python 3",
   "language": "python",
   "name": "python3"
  },
  "language_info": {
   "codemirror_mode": {
    "name": "ipython",
    "version": 3
   },
   "file_extension": ".py",
   "mimetype": "text/x-python",
   "name": "python",
   "nbconvert_exporter": "python",
   "pygments_lexer": "ipython3",
   "version": "3.7.4"
  }
 },
 "nbformat": 4,
 "nbformat_minor": 2
}
