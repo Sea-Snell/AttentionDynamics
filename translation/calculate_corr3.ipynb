{
 "cells": [
  {
   "cell_type": "code",
   "execution_count": 19,
   "metadata": {},
   "outputs": [],
   "source": [
    "import pickle as pkl\n",
    "import numpy as np\n",
    "import torch\n",
    "from utils import *"
   ]
  },
  {
   "cell_type": "code",
   "execution_count": 17,
   "metadata": {},
   "outputs": [],
   "source": [
    "dataset = 'multi30k'\n",
    "embed_key = 'embed_beta'\n",
    "dat = load_dataset_dict(dataset, embed_key)\n",
    "metric = TopPercentMatch(p=5)\n",
    "# metric = KendallTauCorr()\n",
    "runs = ['normal_B']"
   ]
  },
  {
   "cell_type": "code",
   "execution_count": 21,
   "metadata": {
    "scrolled": true
   },
   "outputs": [
    {
     "name": "stdout",
     "output_type": "stream",
     "text": [
      "{'agr_unif': 0.31019777503090235, 'agr_px': 0.3442521631644005, 'agr_grad': 0.27058096415327565, 'xi_unif': 43.4487021013597, 'xi_px': 43.4487021013597, 'xi_grad': 43.4487021013597, 'best_perf': 66.29171817058096, 'baseline': 0.07137206427688506}\n"
     ]
    }
   ],
   "source": [
    "print(fetch_stats(dat, 'val', metric, 'normal_A', runs, 'uniform', embed_key, 'val_acc'))"
   ]
  },
  {
   "cell_type": "code",
   "execution_count": 2,
   "metadata": {},
   "outputs": [],
   "source": [
    "dataset = 'multi30k'\n",
    "dat = pkl.load(open('outputs/{dataset}_logs.pkl'.format(dataset=dataset), 'rb'))\n",
    "all_dicts = dat['data']\n",
    "subset = 'val'\n",
    "acc_metric = 'val_bleu'\n",
    "dicts = [d for d in all_dicts if d['split'] == subset]\n",
    "iterations = sorted(list(set([key[1] for key in dat['metas']])))\n",
    "# flip_grads(dicts)"
   ]
  },
  {
   "cell_type": "code",
   "execution_count": 3,
   "metadata": {},
   "outputs": [],
   "source": [
    "embed_beta = pkl.load(open('outputs/{dataset}embedding256translation.pkl'.format(dataset=dataset), 'rb'))\n",
    "impute_beta(dicts, embed_beta, 'embed_beta')"
   ]
  },
  {
   "cell_type": "code",
   "execution_count": 4,
   "metadata": {},
   "outputs": [],
   "source": [
    "metric = TopPercentMatch(p=5)\n",
    "normalA_iter = max_acc_iter('normal_A', dat['metas'], acc_metric)\n",
    "normalB_iter = max_acc_iter('normal_B', dat['metas'], acc_metric)\n",
    "uniform_iter = max_acc_iter('uniform', dat['metas'], acc_metric)"
   ]
  },
  {
   "cell_type": "code",
   "execution_count": 5,
   "metadata": {},
   "outputs": [],
   "source": [
    "gold_alpha_key = ('normal_A', normalA_iter, 'alpha')\n",
    "gold_grad_key = ('normal_A', normalA_iter, 'grad')\n",
    "\n",
    "normal_keys = [('normal_B', iter_, 'alpha') for iter_ in iterations]\n",
    "acc_keys = [('normal_B', iter_, acc_metric) for iter_ in iterations]\n",
    "\n",
    "alpha_corrs, alpha_baseline = corrs_iter(dicts, gold_alpha_key, normal_keys, metric)\n",
    "alpha_perfs = acc_iter(dat['metas'], acc_keys)\n",
    "\n",
    "avg_corr = np.array(alpha_corrs)\n",
    "avg_perf = np.array(alpha_perfs)\n",
    "baseline = alpha_baseline[0]"
   ]
  },
  {
   "cell_type": "code",
   "execution_count": 6,
   "metadata": {},
   "outputs": [
    {
     "name": "stdout",
     "output_type": "stream",
     "text": [
      "(14, 14)\n",
      "(14, 14)\n"
     ]
    }
   ],
   "source": [
    "print(dicts[0][gold_grad_key].shape)\n",
    "print(dicts[0][gold_alpha_key].shape)"
   ]
  },
  {
   "cell_type": "code",
   "execution_count": 7,
   "metadata": {},
   "outputs": [],
   "source": [
    "beta_unif_keys = [('uniform', iter_, 'beta') for iter_ in iterations]\n",
    "beta_corr_unif = max_corr(dicts, gold_alpha_key, beta_unif_keys, metric)\n",
    "beta_corr_grad = max_corr(dicts, gold_grad_key, beta_unif_keys, metric)\n",
    "beta_corr_px = max_corr(dicts, 'embed_beta', beta_unif_keys, metric)"
   ]
  },
  {
   "cell_type": "code",
   "execution_count": 8,
   "metadata": {},
   "outputs": [
    {
     "name": "stdout",
     "output_type": "stream",
     "text": [
      "([0.06508034610630407, 0.05760197775030902, 0.06464771322620519, 0.14573547589616812, 0.18590852904820768, 0.20970333745364647, 0.22632880098887515, 0.25173053152039554, 0.25630407911001235, 0.2656365883807169, 0.26458590852904823, 0.2671817058096415, 0.26613102595797283, 0.2686650185414092, 0.26526576019777504, 0.26817058096415325, 0.26637824474660077, 0.26909765142150804, 0.2723733003708282, 0.2622373300370828], [0.06909765142150803, 0.06835599505562423, 0.06971569839307787, 0.07132262051915945, 0.07169344870210136, 0.0700247218788628, 0.07218788627935722, 0.07224969097651422, 0.07280593325092707, 0.0738566131025958, 0.06878862793572312, 0.07682323856613102, 0.07286773794808406, 0.07799752781211372, 0.07546353522867738, 0.07398022249690976, 0.07855377008652657, 0.08139678615574783, 0.08176761433868975, 0.08479604449938195])\n"
     ]
    }
   ],
   "source": [
    "print(corrs_iter(dicts, gold_grad_key, beta_unif_keys, metric))"
   ]
  },
  {
   "cell_type": "code",
   "execution_count": 15,
   "metadata": {},
   "outputs": [
    {
     "name": "stdout",
     "output_type": "stream",
     "text": [
      "0 {'name': 'top 5% match', 'correlation': 0.07428924598269468, 'baseline': 0.07169344870210136}\n",
      "50 {'name': 'top 5% match', 'correlation': 0.23454882571075403, 'baseline': 0.07336217552533993}\n",
      "100 {'name': 'top 5% match', 'correlation': 0.39641532756489495, 'baseline': 0.07163164400494437}\n",
      "500 {'name': 'top 5% match', 'correlation': 0.37626699629171817, 'baseline': 0.07169344870210136}\n",
      "1000 {'name': 'top 5% match', 'correlation': 0.3983930778739184, 'baseline': 0.07262051915945612}\n",
      "1500 {'name': 'top 5% match', 'correlation': 0.4251545117428925, 'baseline': 0.06953028430160692}\n",
      "2000 {'name': 'top 5% match', 'correlation': 0.4566749072929543, 'baseline': 0.07169344870210136}\n",
      "4000 {'name': 'top 5% match', 'correlation': 0.46983930778739186, 'baseline': 0.06903584672435105}\n",
      "6000 {'name': 'top 5% match', 'correlation': 0.4711372064276885, 'baseline': 0.07262051915945612}\n",
      "8000 {'name': 'top 5% match', 'correlation': 0.46946847960444993, 'baseline': 0.07200247218788627}\n",
      "10000 {'name': 'top 5% match', 'correlation': 0.4608158220024722, 'baseline': 0.07367119901112484}\n",
      "12000 {'name': 'top 5% match', 'correlation': 0.47169344870210134, 'baseline': 0.06804697156983931}\n",
      "14000 {'name': 'top 5% match', 'correlation': 0.48485784919653896, 'baseline': 0.06872682323856613}\n",
      "16000 {'name': 'top 5% match', 'correlation': 0.4623609394313968, 'baseline': 0.07490729295426453}\n",
      "18000 {'name': 'top 5% match', 'correlation': 0.46674907292954265, 'baseline': 0.06854140914709518}\n",
      "20000 {'name': 'top 5% match', 'correlation': 0.45389369592088996, 'baseline': 0.07323856613102596}\n",
      "24000 {'name': 'top 5% match', 'correlation': 0.4430160692212608, 'baseline': 0.07342398022249691}\n",
      "28000 {'name': 'top 5% match', 'correlation': 0.4481458590852905, 'baseline': 0.0738566131025958}\n",
      "32000 {'name': 'top 5% match', 'correlation': 0.45599505562422743, 'baseline': 0.07274412855377009}\n",
      "36000 {'name': 'top 5% match', 'correlation': 0.45018541409147095, 'baseline': 0.07194066749072929}\n"
     ]
    }
   ],
   "source": [
    "# for iter_ in iterations:\n",
    "#     alpha_key = ('normal_A', iter_, 'alpha')\n",
    "#     grad_key = ('normal_A', iter_, 'grad')\n",
    "#     print(iter_, metric.eval_corr(dicts, alpha_key, grad_key))"
   ]
  },
  {
   "cell_type": "code",
   "execution_count": 10,
   "metadata": {
    "scrolled": true
   },
   "outputs": [
    {
     "name": "stdout",
     "output_type": "stream",
     "text": [
      "[(0, 0.06328800988875155), (50, 0.0634734239802225), (100, 0.16452410383189123), (500, 0.26674907292954264), (1000, 0.45327564894932015), (1500, 0.5652657601977751), (2000, 0.630655129789864), (4000, 0.7021631644004944), (6000, 0.715327564894932), (8000, 0.7527194066749073), (10000, 0.7559950556242274), (12000, 0.7480222496909765), (14000, 0.75), (16000, 0.7639678615574784), (18000, 0.7688504326328801), (20000, 0.7632262051915946), (24000, 0.776761433868974), (28000, 0.7726823238566131), (32000, 0.7765760197775031), (36000, 0.7749690976514215)]\n",
      "4 4 4\n",
      "0.307725587144623 0.3442521631644005 0.2723733003708282 0.0715080346106304 11.428225554342985 11.428225554342985 11.428225554342985 37.88620336527713\n"
     ]
    }
   ],
   "source": [
    "best_acc = dat['metas'][('normal_A', normalA_iter, acc_metric)]\n",
    "idx_unif = passing_idx(avg_corr, beta_corr_unif)\n",
    "idx_grad = passing_idx(avg_corr, beta_corr_grad)\n",
    "idx_px = passing_idx(avg_corr, beta_corr_px)\n",
    "def print_perf(idx):\n",
    "    if idx is None:\n",
    "        return None\n",
    "    else:\n",
    "        return avg_perf[idx]\n",
    "print(list(zip(iterations, avg_corr)))\n",
    "print(idx_unif, idx_grad, idx_px)\n",
    "print(beta_corr_unif, beta_corr_px, beta_corr_grad, baseline, print_perf(idx_unif), print_perf(idx_px), print_perf(idx_grad), best_acc)\n",
    "\n"
   ]
  },
  {
   "cell_type": "code",
   "execution_count": 31,
   "metadata": {},
   "outputs": [
    {
     "name": "stdout",
     "output_type": "stream",
     "text": [
      "('normal_A', 98000, 'alpha') ('normal_B', 98000, 'beta')\n",
      "{'name': 'top 1 match', 'correlation': 0.4906809735378769, 'baseline': 0.029517236240347983}\n",
      "{'name': 'top 3 match', 'correlation': 0.630424455807975, 'baseline': 0.08793696034872998}\n",
      "{'name': 'top 5 match', 'correlation': 0.6835303322435521, 'baseline': 0.1448337850802433}\n",
      "{'name': 'top 5% match', 'correlation': 0.6016337403712707, 'baseline': 0.06422257616825476}\n"
     ]
    }
   ],
   "source": [
    "# metrics.append(SpearmanRankCorr()) comment out because this takes a lot of time to evaluate\n",
    "key1, key2 = ('normal_A', normalA_iter, 'alpha'), ('normal_B', normalB_iter, 'beta')\n",
    "print(key1, key2)\n",
    "for metric in metrics:\n",
    "    print(metric.eval_corr(dicts, key1, key2))"
   ]
  },
  {
   "cell_type": "code",
   "execution_count": 32,
   "metadata": {},
   "outputs": [
    {
     "name": "stdout",
     "output_type": "stream",
     "text": [
      "('normal_A', 98000, 'alpha') ('uniform', 98000, 'beta')\n",
      "{'name': 'top 1 match', 'correlation': 0.26383882415402243, 'baseline': 0.031557083112117065}\n",
      "{'name': 'top 3 match', 'correlation': 0.3738182393979192, 'baseline': 0.0881372192881959}\n",
      "{'name': 'top 5 match', 'correlation': 0.43500433118171405, 'baseline': 0.14561619209955198}\n",
      "{'name': 'top 5% match', 'correlation': 0.34707202801762277, 'baseline': 0.06557315971349}\n"
     ]
    }
   ],
   "source": [
    "key1, key2 = ('normal_A', iterations[-1], 'alpha'), ('uniform', iterations[-1], 'beta')\n",
    "print(key1, key2)\n",
    "for metric in metrics:\n",
    "    print(metric.eval_corr(dicts, key1, key2))"
   ]
  },
  {
   "cell_type": "code",
   "execution_count": 33,
   "metadata": {},
   "outputs": [
    {
     "name": "stdout",
     "output_type": "stream",
     "text": [
      "('uniform', 98000, 'beta') embed256_beta\n",
      "{'name': 'top 1 match', 'correlation': 0.34697888432484797, 'baseline': 0.040349847710062316}\n",
      "{'name': 'top 3 match', 'correlation': 0.41936084798017903, 'baseline': 0.09972895185402521}\n",
      "{'name': 'top 5 match', 'correlation': 0.47952701632808936, 'baseline': 0.1557176255809838}\n",
      "{'name': 'top 5% match', 'correlation': 0.39109173722301394, 'baseline': 0.07727200752601038}\n"
     ]
    }
   ],
   "source": [
    "key1, key2 = ('uniform', iterations[-1], 'beta'), 'embed256_beta'\n",
    "print(key1, key2)\n",
    "for metric in metrics:\n",
    "    print(metric.eval_corr(dicts, key1, key2))"
   ]
  },
  {
   "cell_type": "code",
   "execution_count": 34,
   "metadata": {},
   "outputs": [
    {
     "name": "stdout",
     "output_type": "stream",
     "text": [
      "('uniform', 98000, 'beta') IBM_beta\n"
     ]
    },
    {
     "ename": "KeyError",
     "evalue": "'IBM_beta'",
     "output_type": "error",
     "traceback": [
      "\u001b[0;31m---------------------------------------------------------------------------\u001b[0m",
      "\u001b[0;31mKeyError\u001b[0m                                  Traceback (most recent call last)",
      "\u001b[0;32m<ipython-input-34-2c394cb3d9a2>\u001b[0m in \u001b[0;36m<module>\u001b[0;34m\u001b[0m\n\u001b[1;32m      2\u001b[0m \u001b[0mprint\u001b[0m\u001b[0;34m(\u001b[0m\u001b[0mkey1\u001b[0m\u001b[0;34m,\u001b[0m \u001b[0mkey2\u001b[0m\u001b[0;34m)\u001b[0m\u001b[0;34m\u001b[0m\u001b[0;34m\u001b[0m\u001b[0m\n\u001b[1;32m      3\u001b[0m \u001b[0;32mfor\u001b[0m \u001b[0mmetric\u001b[0m \u001b[0;32min\u001b[0m \u001b[0mmetrics\u001b[0m\u001b[0;34m:\u001b[0m\u001b[0;34m\u001b[0m\u001b[0;34m\u001b[0m\u001b[0m\n\u001b[0;32m----> 4\u001b[0;31m     \u001b[0mprint\u001b[0m\u001b[0;34m(\u001b[0m\u001b[0mmetric\u001b[0m\u001b[0;34m.\u001b[0m\u001b[0meval_corr\u001b[0m\u001b[0;34m(\u001b[0m\u001b[0mdicts\u001b[0m\u001b[0;34m,\u001b[0m \u001b[0mkey1\u001b[0m\u001b[0;34m,\u001b[0m \u001b[0mkey2\u001b[0m\u001b[0;34m)\u001b[0m\u001b[0;34m)\u001b[0m\u001b[0;34m\u001b[0m\u001b[0;34m\u001b[0m\u001b[0m\n\u001b[0m",
      "\u001b[0;32m~/current_projects/NLP_research/AttentionResearch/AttentionDynamics/translation/utils.py\u001b[0m in \u001b[0;36meval_corr\u001b[0;34m(self, dicts, key1, key2)\u001b[0m\n\u001b[1;32m     17\u001b[0m         \u001b[0;31m# for each datapoints\u001b[0m\u001b[0;34m\u001b[0m\u001b[0;34m\u001b[0m\u001b[0;34m\u001b[0m\u001b[0m\n\u001b[1;32m     18\u001b[0m         \u001b[0;32mfor\u001b[0m \u001b[0md\u001b[0m \u001b[0;32min\u001b[0m \u001b[0mdicts\u001b[0m\u001b[0;34m:\u001b[0m\u001b[0;34m\u001b[0m\u001b[0;34m\u001b[0m\u001b[0m\n\u001b[0;32m---> 19\u001b[0;31m             \u001b[0marr1\u001b[0m\u001b[0;34m,\u001b[0m \u001b[0marr2\u001b[0m \u001b[0;34m=\u001b[0m \u001b[0md\u001b[0m\u001b[0;34m[\u001b[0m\u001b[0mkey1\u001b[0m\u001b[0;34m]\u001b[0m\u001b[0;34m,\u001b[0m \u001b[0md\u001b[0m\u001b[0;34m[\u001b[0m\u001b[0mkey2\u001b[0m\u001b[0;34m]\u001b[0m\u001b[0;34m\u001b[0m\u001b[0;34m\u001b[0m\u001b[0m\n\u001b[0m\u001b[1;32m     20\u001b[0m             \u001b[0;32massert\u001b[0m \u001b[0mlen\u001b[0m\u001b[0;34m(\u001b[0m\u001b[0marr1\u001b[0m\u001b[0;34m)\u001b[0m \u001b[0;34m==\u001b[0m \u001b[0mlen\u001b[0m\u001b[0;34m(\u001b[0m\u001b[0marr2\u001b[0m\u001b[0;34m)\u001b[0m\u001b[0;34m\u001b[0m\u001b[0;34m\u001b[0m\u001b[0m\n\u001b[1;32m     21\u001b[0m             \u001b[0;31m# for each target word\u001b[0m\u001b[0;34m\u001b[0m\u001b[0;34m\u001b[0m\u001b[0;34m\u001b[0m\u001b[0m\n",
      "\u001b[0;31mKeyError\u001b[0m: 'IBM_beta'"
     ]
    }
   ],
   "source": [
    "key1, key2 = ('uniform', iterations[-1], 'beta'), 'IBM_beta'\n",
    "print(key1, key2)\n",
    "for metric in metrics:\n",
    "    print(metric.eval_corr(dicts, key1, key2))"
   ]
  },
  {
   "cell_type": "code",
   "execution_count": null,
   "metadata": {},
   "outputs": [],
   "source": []
  }
 ],
 "metadata": {
  "kernelspec": {
   "display_name": "Python 3",
   "language": "python",
   "name": "python3"
  },
  "language_info": {
   "codemirror_mode": {
    "name": "ipython",
    "version": 3
   },
   "file_extension": ".py",
   "mimetype": "text/x-python",
   "name": "python",
   "nbconvert_exporter": "python",
   "pygments_lexer": "ipython3",
   "version": "3.7.4"
  }
 },
 "nbformat": 4,
 "nbformat_minor": 2
}
