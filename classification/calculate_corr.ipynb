{
 "cells": [
  {
   "cell_type": "code",
   "execution_count": 55,
   "metadata": {},
   "outputs": [],
   "source": [
    "import pickle as pkl\n",
    "import numpy as np\n",
    "import matplotlib.pyplot as plt\n",
    "\"\"\"\n",
    "for dataset in ['iwslt14', 'multi30k']:\n",
    "    logs = pkl.load(open('data/{dataset}_logs.pkl'.format(dataset=dataset), 'rb'))\n",
    "\n",
    "    num_datapoints = len(logs['sequences'])\n",
    "\n",
    "    iterations = logs['normal_A'].keys()\n",
    "    dicts = logs['sequences']\n",
    "    for key in logs:\n",
    "        if key == 'sequences':\n",
    "            continue\n",
    "        for iteration in iterations:\n",
    "            for datapoint_idx in range(num_datapoints):\n",
    "                dicts[datapoint_idx][(key, iteration, 'alpha')] = logs[key][iteration][datapoint_idx]['alpha']\n",
    "                dicts[datapoint_idx][(key, iteration, 'beta')] = logs[key][iteration][datapoint_idx]['beta']\n",
    "                dicts[datapoint_idx]['split'] = logs[key][iteration][datapoint_idx]['split']\n",
    "    pkl.dump(dicts, open('data/{dataset}_logs_rz.pkl'.format(dataset=dataset), 'wb'))\n",
    "    \"\"\"\n",
    "from utils import *\n",
    "\n",
    "def max_acc_iter(name, metas):\n",
    "    max_acc = -1.0\n",
    "    max_acc_iter = None\n",
    "    for key_ in metas:\n",
    "        if key_[0] == name and 'test' in key_[2]:\n",
    "            if metas[key_] > max_acc:\n",
    "                max_acc = metas[key_]\n",
    "                max_acc_iter = key_[1]\n",
    "    return max_acc_iter"
   ]
  },
  {
   "cell_type": "code",
   "execution_count": 87,
   "metadata": {},
   "outputs": [],
   "source": [
    "dataset = 'SMS'\n",
    "dat = pkl.load(open('outputs/{dataset}_logs.pkl'.format(dataset=dataset), 'rb'))\n",
    "all_dicts = dat['data']\n",
    "subset = 'val'\n",
    "dicts = [d for d in all_dicts if d['split'] == subset]\n",
    "iterations = sorted(list(set([key[1] for key in dat['metas']])))"
   ]
  },
  {
   "cell_type": "code",
   "execution_count": 88,
   "metadata": {},
   "outputs": [],
   "source": [
    "from utils import TopKMatch, TopPercentMatch, SpearmanRankCorr\n",
    "metrics = [TopPercentMatch(p=5)]\n",
    "normalA_iter = max_acc_iter('normal_A', dat['metas'])\n",
    "normalB_iter = max_acc_iter('normal_B', dat['metas'])\n",
    "uniform_iter = max_acc_iter('uniform', dat['metas'])"
   ]
  },
  {
   "cell_type": "code",
   "execution_count": 89,
   "metadata": {},
   "outputs": [
    {
     "name": "stdout",
     "output_type": "stream",
     "text": [
      "('normal_A', 1500, 'alpha') ('normal_B', 500, 'beta')\n",
      "{'name': 'top 5% match', 'correlation': 0.09450337512054002, 'baseline': 0.09161041465766634}\n",
      "('normal_A', 1500, 'alpha') ('normal_B', 1500, 'beta')\n",
      "{'name': 'top 5% match', 'correlation': 0.0935390549662488, 'baseline': 0.09691417550626807}\n",
      "('normal_A', 1500, 'alpha') ('normal_B', 3000, 'beta')\n",
      "{'name': 'top 5% match', 'correlation': 0.09691417550626807, 'baseline': 0.08727097396335583}\n",
      "('normal_A', 1500, 'alpha') ('normal_B', 3999, 'beta')\n",
      "{'name': 'top 5% match', 'correlation': 0.09643201542912247, 'baseline': 0.08341369334619093}\n"
     ]
    },
    {
     "data": {
      "image/png": "[encoded data removed]",
      "text/plain": [
       "<Figure size 432x288 with 1 Axes>"
      ]
     },
     "metadata": {
      "needs_background": "light"
     },
     "output_type": "display_data"
    }
   ],
   "source": [
    "# metrics.append(SpearmanRankCorr()) comment out because this takes a lot of time to evaluate\n",
    "x = []\n",
    "y = []\n",
    "baseline_y = []\n",
    "for iter_ in iterations:\n",
    "    key1, key2 = ('normal_A', normalA_iter, 'alpha'), ('normal_B', iter_, 'beta')\n",
    "    print(key1, key2)\n",
    "    for metric in metrics:\n",
    "        corr = metric.eval_corr(dicts, key1, key2)\n",
    "        print(corr)\n",
    "    y.append(corr['correlation'])\n",
    "    baseline_y.append(corr['baseline'])\n",
    "    x.append(iter_)\n",
    "plt.plot(x, y, label='correlation')\n",
    "plt.plot(x, baseline_y, label='baseline')\n",
    "plt.legend()\n",
    "plt.show()"
   ]
  },
  {
   "cell_type": "code",
   "execution_count": 90,
   "metadata": {},
   "outputs": [
    {
     "name": "stdout",
     "output_type": "stream",
     "text": [
      "('normal_A', 1500, 'alpha') ('uniform', 500, 'beta')\n",
      "{'name': 'top 5% match', 'correlation': 0.008678881388621022, 'baseline': 0.08003857280617165}\n",
      "('normal_A', 1500, 'alpha') ('uniform', 1500, 'beta')\n",
      "{'name': 'top 5% match', 'correlation': 0.015429122468659595, 'baseline': 0.08293153326904533}\n",
      "('normal_A', 1500, 'alpha') ('uniform', 3000, 'beta')\n",
      "{'name': 'top 5% match', 'correlation': 0.01446480231436837, 'baseline': 0.08196721311475409}\n",
      "('normal_A', 1500, 'alpha') ('uniform', 3999, 'beta')\n",
      "{'name': 'top 5% match', 'correlation': 0.016875602700096432, 'baseline': 0.09498553519768563}\n"
     ]
    },
    {
     "data": {
      "image/png": "[encoded data removed]",
      "text/plain": [
       "<Figure size 432x288 with 1 Axes>"
      ]
     },
     "metadata": {
      "needs_background": "light"
     },
     "output_type": "display_data"
    },
    {
     "name": "stdout",
     "output_type": "stream",
     "text": [
      "[500, 1500, 3000, 3999]\n",
      "[0.008678881388621022, 0.015429122468659595, 0.01446480231436837, 0.016875602700096432]\n"
     ]
    }
   ],
   "source": [
    "\n",
    "x = []\n",
    "y = []\n",
    "baseline_y = []\n",
    "for iter_ in iterations:\n",
    "    key1, key2 = ('normal_A', normalA_iter, 'alpha'), ('uniform', iter_, 'beta')\n",
    "    print(key1, key2)\n",
    "    for metric in metrics:\n",
    "        corr = metric.eval_corr(dicts, key1, key2)\n",
    "        print(corr)\n",
    "    y.append(corr['correlation'])\n",
    "    baseline_y.append(corr['baseline'])\n",
    "    x.append(iter_)\n",
    "plt.plot(x, y, label='correlation')\n",
    "plt.plot(x, baseline_y, label='baseline')\n",
    "plt.legend()\n",
    "plt.show()\n",
    "print(x)\n",
    "print(y)"
   ]
  },
  {
   "cell_type": "code",
   "execution_count": 91,
   "metadata": {},
   "outputs": [
    {
     "name": "stdout",
     "output_type": "stream",
     "text": [
      "('uniform', 500, 'beta') logistics_beta\n",
      "{'name': 'top 5% match', 'correlation': 0.3254580520732883, 'baseline': 0.10752169720347156}\n",
      "('uniform', 1500, 'beta') logistics_beta\n",
      "{'name': 'top 5% match', 'correlation': 0.24686595949855353, 'baseline': 0.11427193828351012}\n",
      "('uniform', 3000, 'beta') logistics_beta\n",
      "{'name': 'top 5% match', 'correlation': 0.2415621986499518, 'baseline': 0.10655737704918032}\n",
      "('uniform', 3999, 'beta') logistics_beta\n",
      "{'name': 'top 5% match', 'correlation': 0.23336547733847637, 'baseline': 0.11523625843780134}\n"
     ]
    },
    {
     "data": {
      "image/png": "[encoded data removed]",
      "text/plain": [
       "<Figure size 432x288 with 1 Axes>"
      ]
     },
     "metadata": {
      "needs_background": "light"
     },
     "output_type": "display_data"
    }
   ],
   "source": [
    "x = []\n",
    "y = []\n",
    "baseline_y = []\n",
    "for iter_ in iterations:\n",
    "    key1, key2 = ('uniform', iter_, 'beta'), 'logistics_beta'\n",
    "    print(key1, key2)\n",
    "    for metric in metrics:\n",
    "        corr = metric.eval_corr(dicts, key1, key2)\n",
    "        print(corr)\n",
    "    y.append(corr['correlation'])\n",
    "    baseline_y.append(corr['baseline'])\n",
    "    x.append(iter_)\n",
    "plt.plot(x, y, label='correlation')\n",
    "plt.plot(x, baseline_y, label='baseline')\n",
    "plt.legend()\n",
    "plt.show()"
   ]
  },
  {
   "cell_type": "code",
   "execution_count": null,
   "metadata": {},
   "outputs": [],
   "source": []
  },
  {
   "cell_type": "code",
   "execution_count": null,
   "metadata": {},
   "outputs": [],
   "source": []
  }
 ],
 "metadata": {
  "kernelspec": {
   "display_name": "Python 3",
   "language": "python",
   "name": "python3"
  },
  "language_info": {
   "codemirror_mode": {
    "name": "ipython",
    "version": 3
   },
   "file_extension": ".py",
   "mimetype": "text/x-python",
   "name": "python",
   "nbconvert_exporter": "python",
   "pygments_lexer": "ipython3",
   "version": "3.7.4"
  }
 },
 "nbformat": 4,
 "nbformat_minor": 2
}
